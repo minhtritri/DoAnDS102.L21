{
  "nbformat": 4,
  "nbformat_minor": 0,
  "metadata": {
    "colab": {
      "name": "Nhom20_LoanPrediction.ipynb",
      "provenance": [],
      "collapsed_sections": []
    },
    "kernelspec": {
      "name": "python3",
      "display_name": "Python 3"
    },
    "language_info": {
      "name": "python"
    },
    "accelerator": "GPU"
  },
  "cells": [
    {
      "cell_type": "markdown",
      "metadata": {
        "id": "1FmzUZokbQs2"
      },
      "source": [
        "\n",
        "\n",
        "\n",
        "# Import thư viện\n",
        "\n",
        "\n"
      ]
    },
    {
      "cell_type": "code",
      "metadata": {
        "id": "TTN6l3-eonpQ"
      },
      "source": [
        "import numpy as np\n",
        "import pandas as pd\n",
        "import random\n",
        "from sklearn.preprocessing import LabelEncoder\n",
        "from sklearn.preprocessing import OneHotEncoder\n",
        "from sklearn.preprocessing import StandardScaler\n",
        "from sklearn.tree import DecisionTreeClassifier\n",
        "from sklearn.neighbors import KNeighborsClassifier\n",
        "from imblearn.over_sampling import RandomOverSampler\n",
        "from imblearn.over_sampling import ADASYN\n",
        "from imblearn.over_sampling import SMOTE\n",
        "from sklearn.compose import ColumnTransformer\n",
        "from sklearn.metrics import classification_report\n",
        "from sklearn.metrics import plot_confusion_matrix\n",
        "import matplotlib.pyplot as plt"
      ],
      "execution_count": 47,
      "outputs": []
    },
    {
      "cell_type": "markdown",
      "metadata": {
        "id": "CFcIQ16UbVIH"
      },
      "source": [
        "#đọc dữ liệu"
      ]
    },
    {
      "cell_type": "code",
      "metadata": {
        "id": "nPCvEIato4u-",
        "colab": {
          "base_uri": "https://localhost:8080/"
        },
        "outputId": "0cb5fc20-1dcb-4845-bc28-8d57b4f48e28"
      },
      "source": [
        "dataset_train = pd.read_csv(\"/content/train_u6lujuX_CVtuZ9i.csv\")\n",
        "dataset_test = pd.read_csv(\"/content/test_Y3wMUE5_7gLdaTN.csv\")\n",
        "dataset_train = dataset_train.iloc[:,2:9]\n",
        "dataset_test = dataset_test.iloc[:,2:9]\n",
        "dataset_train = dataset_train.drop(dataset_train.columns[[4,5]], axis=1)\n",
        "dataset_test = dataset_test.drop(dataset_test.columns[[4,5]], axis=1)\n",
        "dataset_train.apply(lambda x: sum (x.isnull ()), axis = 0) "
      ],
      "execution_count": 49,
      "outputs": [
        {
          "output_type": "execute_result",
          "data": {
            "text/plain": [
              "Married           3\n",
              "Dependents       15\n",
              "Education         0\n",
              "Self_Employed    32\n",
              "LoanAmount       22\n",
              "dtype: int64"
            ]
          },
          "metadata": {
            "tags": []
          },
          "execution_count": 49
        }
      ]
    },
    {
      "cell_type": "markdown",
      "metadata": {
        "id": "WvMLKN0H5Is0"
      },
      "source": [
        "#Tiền xử lý"
      ]
    },
    {
      "cell_type": "code",
      "metadata": {
        "colab": {
          "base_uri": "https://localhost:8080/"
        },
        "id": "CVBbAQZDpOUr",
        "outputId": "82c437b0-7bbb-4fea-ad8d-ac1efd8bbca2"
      },
      "source": [
        "dataset_train['Married'].value_counts()"
      ],
      "execution_count": null,
      "outputs": [
        {
          "output_type": "execute_result",
          "data": {
            "text/plain": [
              "Yes    398\n",
              "No     213\n",
              "Name: Married, dtype: int64"
            ]
          },
          "metadata": {
            "tags": []
          },
          "execution_count": 4
        }
      ]
    },
    {
      "cell_type": "code",
      "metadata": {
        "id": "siD6_Pu-q2qt",
        "colab": {
          "base_uri": "https://localhost:8080/"
        },
        "outputId": "f6672ca2-b3cd-41c1-8c3b-fc837932d445"
      },
      "source": [
        "dataset_train['Dependents'].value_counts()"
      ],
      "execution_count": null,
      "outputs": [
        {
          "output_type": "execute_result",
          "data": {
            "text/plain": [
              "0     345\n",
              "1     102\n",
              "2     101\n",
              "3+     51\n",
              "Name: Dependents, dtype: int64"
            ]
          },
          "metadata": {
            "tags": []
          },
          "execution_count": 5
        }
      ]
    },
    {
      "cell_type": "code",
      "metadata": {
        "id": "EqNfDFyA4BGZ",
        "colab": {
          "base_uri": "https://localhost:8080/"
        },
        "outputId": "d33f9b33-b047-4ed0-8dbb-f25b62175ca3"
      },
      "source": [
        "dataset_train['Education'].value_counts()"
      ],
      "execution_count": null,
      "outputs": [
        {
          "output_type": "execute_result",
          "data": {
            "text/plain": [
              "Graduate        480\n",
              "Not Graduate    134\n",
              "Name: Education, dtype: int64"
            ]
          },
          "metadata": {
            "tags": []
          },
          "execution_count": 6
        }
      ]
    },
    {
      "cell_type": "code",
      "metadata": {
        "id": "BET6De8B4H-2",
        "colab": {
          "base_uri": "https://localhost:8080/"
        },
        "outputId": "e1062372-688a-424e-92e7-410677f04368"
      },
      "source": [
        "dataset_train['Self_Employed'].value_counts()"
      ],
      "execution_count": null,
      "outputs": [
        {
          "output_type": "execute_result",
          "data": {
            "text/plain": [
              "No     500\n",
              "Yes     82\n",
              "Name: Self_Employed, dtype: int64"
            ]
          },
          "metadata": {
            "tags": []
          },
          "execution_count": 7
        }
      ]
    },
    {
      "cell_type": "markdown",
      "metadata": {
        "id": "YXHl6rPJ3v_H"
      },
      "source": [
        "Điền dữ liệu"
      ]
    },
    {
      "cell_type": "code",
      "metadata": {
        "id": "vm6EZtEBqNcE"
      },
      "source": [
        "dataset_train['Married'] = dataset_train['Married'].fillna(\"Yes\")\n",
        "dataset_test['Married'] = dataset_test['Married'].fillna(\"Yes\")\n",
        "dataset_train['Dependents'] = dataset_train['Dependents'].fillna(0)\n",
        "dataset_test['Dependents'] = dataset_test['Dependents'].fillna(0)\n",
        "dataset_train['Self_Employed'] = dataset_train['Self_Employed'].fillna(\"No\")\n",
        "dataset_test['Self_Employed'] = dataset_test['Self_Employed'].fillna(\"No\")"
      ],
      "execution_count": 50,
      "outputs": []
    },
    {
      "cell_type": "code",
      "metadata": {
        "id": "g6vPEU9z9DCT"
      },
      "source": [
        "dataset_train = dataset_train.dropna(axis=0, how='any', thresh=None, subset=None, inplace=False)\n",
        "dataset_test = dataset_test.dropna(axis=0, how='any', thresh=None, subset=None, inplace=False)\n",
        "dataset_train = dataset_train.reset_index()\n",
        "dataset_test = dataset_test.reset_index()\n",
        "del dataset_train['index']\n",
        "del dataset_test['index']"
      ],
      "execution_count": 51,
      "outputs": []
    },
    {
      "cell_type": "markdown",
      "metadata": {
        "id": "BKIjUkaP3tWT"
      },
      "source": [
        "Gán nhãn dữ liệu"
      ]
    },
    {
      "cell_type": "code",
      "metadata": {
        "id": "RZah5QfJ_EbD",
        "colab": {
          "base_uri": "https://localhost:8080/"
        },
        "outputId": "40e69aca-46bc-4f97-c480-a52842bf64cb"
      },
      "source": [
        "def add_label(X): \n",
        "  for i in range(len(X)):\n",
        "    if  X[i] < 300:\n",
        "      X[i] = 0\n",
        "    else :\n",
        "      X[i] = 1\n",
        "    \n",
        "add_label(dataset_train.LoanAmount)\n",
        "add_label(dataset_test.LoanAmount)"
      ],
      "execution_count": 52,
      "outputs": [
        {
          "output_type": "stream",
          "text": [
            "/usr/local/lib/python3.7/dist-packages/ipykernel_launcher.py:4: SettingWithCopyWarning: \n",
            "A value is trying to be set on a copy of a slice from a DataFrame\n",
            "\n",
            "See the caveats in the documentation: https://pandas.pydata.org/pandas-docs/stable/user_guide/indexing.html#returning-a-view-versus-a-copy\n",
            "  after removing the cwd from sys.path.\n",
            "/usr/local/lib/python3.7/dist-packages/ipykernel_launcher.py:6: SettingWithCopyWarning: \n",
            "A value is trying to be set on a copy of a slice from a DataFrame\n",
            "\n",
            "See the caveats in the documentation: https://pandas.pydata.org/pandas-docs/stable/user_guide/indexing.html#returning-a-view-versus-a-copy\n",
            "  \n"
          ],
          "name": "stderr"
        }
      ]
    },
    {
      "cell_type": "code",
      "metadata": {
        "colab": {
          "base_uri": "https://localhost:8080/"
        },
        "id": "KVUUudRmFZxA",
        "outputId": "1ac62e33-72a1-4b51-844a-e1f781175e02"
      },
      "source": [
        "dataset_train.LoanAmount.value_counts()"
      ],
      "execution_count": 112,
      "outputs": [
        {
          "output_type": "execute_result",
          "data": {
            "text/plain": [
              "0.0    562\n",
              "1.0     30\n",
              "Name: LoanAmount, dtype: int64"
            ]
          },
          "metadata": {
            "tags": []
          },
          "execution_count": 112
        }
      ]
    },
    {
      "cell_type": "code",
      "metadata": {
        "colab": {
          "base_uri": "https://localhost:8080/",
          "height": 417
        },
        "id": "fha_WQ8U7RTd",
        "outputId": "bc229b45-066a-4f17-a232-4ff22839dc01"
      },
      "source": [
        "dataset_test"
      ],
      "execution_count": 134,
      "outputs": [
        {
          "output_type": "execute_result",
          "data": {
            "text/html": [
              "<div>\n",
              "<style scoped>\n",
              "    .dataframe tbody tr th:only-of-type {\n",
              "        vertical-align: middle;\n",
              "    }\n",
              "\n",
              "    .dataframe tbody tr th {\n",
              "        vertical-align: top;\n",
              "    }\n",
              "\n",
              "    .dataframe thead th {\n",
              "        text-align: right;\n",
              "    }\n",
              "</style>\n",
              "<table border=\"1\" class=\"dataframe\">\n",
              "  <thead>\n",
              "    <tr style=\"text-align: right;\">\n",
              "      <th></th>\n",
              "      <th>Married</th>\n",
              "      <th>Dependents</th>\n",
              "      <th>Education</th>\n",
              "      <th>Self_Employed</th>\n",
              "      <th>LoanAmount</th>\n",
              "    </tr>\n",
              "  </thead>\n",
              "  <tbody>\n",
              "    <tr>\n",
              "      <th>0</th>\n",
              "      <td>Yes</td>\n",
              "      <td>0</td>\n",
              "      <td>Graduate</td>\n",
              "      <td>No</td>\n",
              "      <td>0.0</td>\n",
              "    </tr>\n",
              "    <tr>\n",
              "      <th>1</th>\n",
              "      <td>Yes</td>\n",
              "      <td>1</td>\n",
              "      <td>Graduate</td>\n",
              "      <td>No</td>\n",
              "      <td>0.0</td>\n",
              "    </tr>\n",
              "    <tr>\n",
              "      <th>2</th>\n",
              "      <td>Yes</td>\n",
              "      <td>2</td>\n",
              "      <td>Graduate</td>\n",
              "      <td>No</td>\n",
              "      <td>0.0</td>\n",
              "    </tr>\n",
              "    <tr>\n",
              "      <th>3</th>\n",
              "      <td>Yes</td>\n",
              "      <td>2</td>\n",
              "      <td>Graduate</td>\n",
              "      <td>No</td>\n",
              "      <td>0.0</td>\n",
              "    </tr>\n",
              "    <tr>\n",
              "      <th>4</th>\n",
              "      <td>No</td>\n",
              "      <td>0</td>\n",
              "      <td>Not Graduate</td>\n",
              "      <td>No</td>\n",
              "      <td>0.0</td>\n",
              "    </tr>\n",
              "    <tr>\n",
              "      <th>...</th>\n",
              "      <td>...</td>\n",
              "      <td>...</td>\n",
              "      <td>...</td>\n",
              "      <td>...</td>\n",
              "      <td>...</td>\n",
              "    </tr>\n",
              "    <tr>\n",
              "      <th>357</th>\n",
              "      <td>Yes</td>\n",
              "      <td>3+</td>\n",
              "      <td>Not Graduate</td>\n",
              "      <td>Yes</td>\n",
              "      <td>0.0</td>\n",
              "    </tr>\n",
              "    <tr>\n",
              "      <th>358</th>\n",
              "      <td>Yes</td>\n",
              "      <td>0</td>\n",
              "      <td>Graduate</td>\n",
              "      <td>No</td>\n",
              "      <td>0.0</td>\n",
              "    </tr>\n",
              "    <tr>\n",
              "      <th>359</th>\n",
              "      <td>No</td>\n",
              "      <td>0</td>\n",
              "      <td>Graduate</td>\n",
              "      <td>No</td>\n",
              "      <td>0.0</td>\n",
              "    </tr>\n",
              "    <tr>\n",
              "      <th>360</th>\n",
              "      <td>Yes</td>\n",
              "      <td>0</td>\n",
              "      <td>Graduate</td>\n",
              "      <td>No</td>\n",
              "      <td>0.0</td>\n",
              "    </tr>\n",
              "    <tr>\n",
              "      <th>361</th>\n",
              "      <td>No</td>\n",
              "      <td>0</td>\n",
              "      <td>Graduate</td>\n",
              "      <td>Yes</td>\n",
              "      <td>0.0</td>\n",
              "    </tr>\n",
              "  </tbody>\n",
              "</table>\n",
              "<p>362 rows × 5 columns</p>\n",
              "</div>"
            ],
            "text/plain": [
              "    Married Dependents     Education Self_Employed  LoanAmount\n",
              "0       Yes          0      Graduate            No         0.0\n",
              "1       Yes          1      Graduate            No         0.0\n",
              "2       Yes          2      Graduate            No         0.0\n",
              "3       Yes          2      Graduate            No         0.0\n",
              "4        No          0  Not Graduate            No         0.0\n",
              "..      ...        ...           ...           ...         ...\n",
              "357     Yes         3+  Not Graduate           Yes         0.0\n",
              "358     Yes          0      Graduate            No         0.0\n",
              "359      No          0      Graduate            No         0.0\n",
              "360     Yes          0      Graduate            No         0.0\n",
              "361      No          0      Graduate           Yes         0.0\n",
              "\n",
              "[362 rows x 5 columns]"
            ]
          },
          "metadata": {
            "tags": []
          },
          "execution_count": 134
        }
      ]
    },
    {
      "cell_type": "code",
      "metadata": {
        "colab": {
          "base_uri": "https://localhost:8080/",
          "height": 80
        },
        "id": "Kct1yAQY7Oqn",
        "outputId": "9cca008c-8453-4105-c1a5-9f58543a7bd9"
      },
      "source": [
        "rand = random.randint(0,361)\n",
        "data_random = dataset_test.loc[rand]\n",
        "data_random = pd.DataFrame(data_random)\n",
        "data_random = data_random.transpose()\n",
        "data_random"
      ],
      "execution_count": 53,
      "outputs": [
        {
          "output_type": "execute_result",
          "data": {
            "text/html": [
              "<div>\n",
              "<style scoped>\n",
              "    .dataframe tbody tr th:only-of-type {\n",
              "        vertical-align: middle;\n",
              "    }\n",
              "\n",
              "    .dataframe tbody tr th {\n",
              "        vertical-align: top;\n",
              "    }\n",
              "\n",
              "    .dataframe thead th {\n",
              "        text-align: right;\n",
              "    }\n",
              "</style>\n",
              "<table border=\"1\" class=\"dataframe\">\n",
              "  <thead>\n",
              "    <tr style=\"text-align: right;\">\n",
              "      <th></th>\n",
              "      <th>Married</th>\n",
              "      <th>Dependents</th>\n",
              "      <th>Education</th>\n",
              "      <th>Self_Employed</th>\n",
              "      <th>LoanAmount</th>\n",
              "    </tr>\n",
              "  </thead>\n",
              "  <tbody>\n",
              "    <tr>\n",
              "      <th>58</th>\n",
              "      <td>Yes</td>\n",
              "      <td>2</td>\n",
              "      <td>Graduate</td>\n",
              "      <td>No</td>\n",
              "      <td>0</td>\n",
              "    </tr>\n",
              "  </tbody>\n",
              "</table>\n",
              "</div>"
            ],
            "text/plain": [
              "   Married Dependents Education Self_Employed LoanAmount\n",
              "58     Yes          2  Graduate            No          0"
            ]
          },
          "metadata": {
            "tags": []
          },
          "execution_count": 53
        }
      ]
    },
    {
      "cell_type": "markdown",
      "metadata": {
        "id": "1NoOqrTu3po3"
      },
      "source": [
        "Chia dữ liệu va mã hoá "
      ]
    },
    {
      "cell_type": "code",
      "metadata": {
        "id": "odQdHIbpBIds",
        "colab": {
          "base_uri": "https://localhost:8080/"
        },
        "outputId": "5829c685-0354-4a8a-f870-8cea31f8dedd"
      },
      "source": [
        "le = LabelEncoder()\n",
        "X_train = dataset_train.iloc[:,0:-1]\n",
        "Y_train = dataset_train.iloc[:,-1]\n",
        "X_test = dataset_test.iloc[:,0:-1]\n",
        "Y_test = dataset_test.iloc[:,-1]\n",
        "X_random = data_random.iloc[:,0:-1]\n",
        "Y_random = data_random.iloc[:,-1]\n",
        "X_train['Dependents'] = le.fit_transform(X_train['Dependents'].astype(str))  \n",
        "X_test['Dependents'] = le.fit_transform(X_test['Dependents'].astype(str)) \n",
        "X_random['Dependents'] = le.fit_transform(X_random['Dependents'].astype(str)) \n",
        "ohe = ColumnTransformer([(\"one_hot_encoder\", OneHotEncoder(), [0,2,3])], remainder = 'passthrough')\n",
        "X_train = ohe.fit_transform(X_train)\n",
        "X_test = ohe.transform(X_test)\n",
        "X_random = ohe.transform(X_random)"
      ],
      "execution_count": 54,
      "outputs": [
        {
          "output_type": "stream",
          "text": [
            "/usr/local/lib/python3.7/dist-packages/ipykernel_launcher.py:10: SettingWithCopyWarning: \n",
            "A value is trying to be set on a copy of a slice from a DataFrame.\n",
            "Try using .loc[row_indexer,col_indexer] = value instead\n",
            "\n",
            "See the caveats in the documentation: https://pandas.pydata.org/pandas-docs/stable/user_guide/indexing.html#returning-a-view-versus-a-copy\n",
            "  # Remove the CWD from sys.path while we load stuff.\n"
          ],
          "name": "stderr"
        }
      ]
    },
    {
      "cell_type": "markdown",
      "metadata": {
        "id": "na9rQQlso1w8"
      },
      "source": [
        "#SMOTE"
      ]
    },
    {
      "cell_type": "code",
      "metadata": {
        "id": "g-sTBSYIal78",
        "colab": {
          "base_uri": "https://localhost:8080/"
        },
        "outputId": "7557cf4e-9ba4-444c-ecc2-fa6412f3d089"
      },
      "source": [
        "smote = SMOTE()\n",
        "X_train_smote , y_train_smote = smote.fit_resample( X_train ,  Y_train ) "
      ],
      "execution_count": 55,
      "outputs": [
        {
          "output_type": "stream",
          "text": [
            "/usr/local/lib/python3.7/dist-packages/sklearn/utils/deprecation.py:87: FutureWarning: Function safe_indexing is deprecated; safe_indexing is deprecated in version 0.22 and will be removed in version 0.24.\n",
            "  warnings.warn(msg, category=FutureWarning)\n"
          ],
          "name": "stderr"
        }
      ]
    },
    {
      "cell_type": "markdown",
      "metadata": {
        "id": "Xq_59D5tbZkr"
      },
      "source": [
        "chuẩn hoá dữ liệu"
      ]
    },
    {
      "cell_type": "code",
      "metadata": {
        "id": "37qDOz9nG7qq"
      },
      "source": [
        "SC = StandardScaler(with_mean=False)\n",
        "X_train_smote = SC.fit_transform(X_train_smote)\n",
        "X_test_smote =  SC.transform(X_test)\n",
        "X_random = SC.transform(X_random)"
      ],
      "execution_count": 56,
      "outputs": []
    },
    {
      "cell_type": "markdown",
      "metadata": {
        "id": "aD6wLgM4atsW"
      },
      "source": [
        "Su dung thuat toan Decision Free"
      ]
    },
    {
      "cell_type": "code",
      "metadata": {
        "colab": {
          "base_uri": "https://localhost:8080/"
        },
        "id": "0TE6b-CyK23g",
        "outputId": "b005fd54-1b4e-4c6f-de5b-a5994a40ba3c"
      },
      "source": [
        "classifier = DecisionTreeClassifier(criterion =\"entropy\")\n",
        "classifier.fit(X_train_smote, y_train_smote)"
      ],
      "execution_count": 57,
      "outputs": [
        {
          "output_type": "execute_result",
          "data": {
            "text/plain": [
              "DecisionTreeClassifier(ccp_alpha=0.0, class_weight=None, criterion='entropy',\n",
              "                       max_depth=None, max_features=None, max_leaf_nodes=None,\n",
              "                       min_impurity_decrease=0.0, min_impurity_split=None,\n",
              "                       min_samples_leaf=1, min_samples_split=2,\n",
              "                       min_weight_fraction_leaf=0.0, presort='deprecated',\n",
              "                       random_state=None, splitter='best')"
            ]
          },
          "metadata": {
            "tags": []
          },
          "execution_count": 57
        }
      ]
    },
    {
      "cell_type": "code",
      "metadata": {
        "colab": {
          "base_uri": "https://localhost:8080/",
          "height": 296
        },
        "id": "qStvpreQLXLc",
        "outputId": "a86ac82b-bf25-47e9-e3d4-33e855b329c5"
      },
      "source": [
        "print(\"Confusion Matrix: Train\")\n",
        "plt.show(plot_confusion_matrix(classifier, X_train_smote, y_train_smote,cmap = 'Blues', values_format = 'g'))"
      ],
      "execution_count": 58,
      "outputs": [
        {
          "output_type": "stream",
          "text": [
            "Confusion Matrix: Train\n"
          ],
          "name": "stdout"
        },
        {
          "output_type": "display_data",
          "data": {
            "image/png": "[encoded data removed]",
            "text/plain": [
              "<Figure size 432x288 with 2 Axes>"
            ]
          },
          "metadata": {
            "tags": [],
            "needs_background": "light"
          }
        }
      ]
    },
    {
      "cell_type": "code",
      "metadata": {
        "colab": {
          "base_uri": "https://localhost:8080/",
          "height": 296
        },
        "id": "3HIFGH1oiw4C",
        "outputId": "b3799b27-c3de-44d3-f2ea-2ec488a99fb7"
      },
      "source": [
        "print(\"Confusion Matrix: Test\")\n",
        "plt.show(plot_confusion_matrix(classifier, X_test_smote, Y_test,cmap = 'Blues', values_format = 'g'))"
      ],
      "execution_count": 59,
      "outputs": [
        {
          "output_type": "stream",
          "text": [
            "Confusion Matrix: Test\n"
          ],
          "name": "stdout"
        },
        {
          "output_type": "display_data",
          "data": {
            "image/png": "[encoded data removed]",
            "text/plain": [
              "<Figure size 432x288 with 2 Axes>"
            ]
          },
          "metadata": {
            "tags": [],
            "needs_background": "light"
          }
        }
      ]
    },
    {
      "cell_type": "code",
      "metadata": {
        "colab": {
          "base_uri": "https://localhost:8080/"
        },
        "id": "TTKKk-I3xdb6",
        "outputId": "dce31ba9-9cfe-4079-867a-024427b12da9"
      },
      "source": [
        " target_names = ['class 0', 'class 1']\n",
        " y_pred = classifier.predict(X_test_smote)\n",
        " print(classification_report(Y_test, y_pred, target_names=target_names))"
      ],
      "execution_count": 60,
      "outputs": [
        {
          "output_type": "stream",
          "text": [
            "              precision    recall  f1-score   support\n",
            "\n",
            "     class 0       0.98      0.84      0.91       353\n",
            "     class 1       0.07      0.44      0.12         9\n",
            "\n",
            "    accuracy                           0.83       362\n",
            "   macro avg       0.53      0.64      0.51       362\n",
            "weighted avg       0.96      0.83      0.89       362\n",
            "\n"
          ],
          "name": "stdout"
        }
      ]
    },
    {
      "cell_type": "code",
      "metadata": {
        "colab": {
          "base_uri": "https://localhost:8080/"
        },
        "id": "0hPVUbO5RlDy",
        "outputId": "e4cedf83-0db0-4ba4-a467-812c351faacc"
      },
      "source": [
        " target_names = ['class 0', 'class 1']\n",
        " print(classification_report(y_train_smote, classifier.predict(X_train_smote), target_names=target_names))"
      ],
      "execution_count": 61,
      "outputs": [
        {
          "output_type": "stream",
          "text": [
            "              precision    recall  f1-score   support\n",
            "\n",
            "     class 0       0.74      0.86      0.80       562\n",
            "     class 1       0.83      0.70      0.76       562\n",
            "\n",
            "    accuracy                           0.78      1124\n",
            "   macro avg       0.79      0.78      0.78      1124\n",
            "weighted avg       0.79      0.78      0.78      1124\n",
            "\n"
          ],
          "name": "stdout"
        }
      ]
    },
    {
      "cell_type": "code",
      "metadata": {
        "colab": {
          "base_uri": "https://localhost:8080/",
          "height": 80
        },
        "id": "5eNYW0sq9Upg",
        "outputId": "8ddb1592-f21a-4b31-ef61-3e8cbcae167d"
      },
      "source": [
        "data_random"
      ],
      "execution_count": 62,
      "outputs": [
        {
          "output_type": "execute_result",
          "data": {
            "text/html": [
              "<div>\n",
              "<style scoped>\n",
              "    .dataframe tbody tr th:only-of-type {\n",
              "        vertical-align: middle;\n",
              "    }\n",
              "\n",
              "    .dataframe tbody tr th {\n",
              "        vertical-align: top;\n",
              "    }\n",
              "\n",
              "    .dataframe thead th {\n",
              "        text-align: right;\n",
              "    }\n",
              "</style>\n",
              "<table border=\"1\" class=\"dataframe\">\n",
              "  <thead>\n",
              "    <tr style=\"text-align: right;\">\n",
              "      <th></th>\n",
              "      <th>Married</th>\n",
              "      <th>Dependents</th>\n",
              "      <th>Education</th>\n",
              "      <th>Self_Employed</th>\n",
              "      <th>LoanAmount</th>\n",
              "    </tr>\n",
              "  </thead>\n",
              "  <tbody>\n",
              "    <tr>\n",
              "      <th>58</th>\n",
              "      <td>Yes</td>\n",
              "      <td>2</td>\n",
              "      <td>Graduate</td>\n",
              "      <td>No</td>\n",
              "      <td>0</td>\n",
              "    </tr>\n",
              "  </tbody>\n",
              "</table>\n",
              "</div>"
            ],
            "text/plain": [
              "   Married Dependents Education Self_Employed LoanAmount\n",
              "58     Yes          2  Graduate            No          0"
            ]
          },
          "metadata": {
            "tags": []
          },
          "execution_count": 62
        }
      ]
    },
    {
      "cell_type": "code",
      "metadata": {
        "colab": {
          "base_uri": "https://localhost:8080/"
        },
        "id": "K5eVs2fi0x_t",
        "outputId": "ca95101e-6b6f-431c-fc28-ac91a4fae8c0"
      },
      "source": [
        "y_random_pred = classifier.predict(X_random)\n",
        "print(\"y predict: \" , y_random_pred)"
      ],
      "execution_count": 63,
      "outputs": [
        {
          "output_type": "stream",
          "text": [
            "y predict:  [0.]\n"
          ],
          "name": "stdout"
        }
      ]
    },
    {
      "cell_type": "markdown",
      "metadata": {
        "id": "DgSvUBfEayxx"
      },
      "source": [
        "KNN"
      ]
    },
    {
      "cell_type": "code",
      "metadata": {
        "colab": {
          "base_uri": "https://localhost:8080/"
        },
        "id": "F1zWtpd-LdNb",
        "outputId": "a9a23c89-0ad8-4e79-a9b2-e0b2235d5387"
      },
      "source": [
        "classifier = KNeighborsClassifier(n_neighbors= 2)\n",
        "classifier.fit(X_train_smote, y_train_smote)"
      ],
      "execution_count": 64,
      "outputs": [
        {
          "output_type": "execute_result",
          "data": {
            "text/plain": [
              "KNeighborsClassifier(algorithm='auto', leaf_size=30, metric='minkowski',\n",
              "                     metric_params=None, n_jobs=None, n_neighbors=2, p=2,\n",
              "                     weights='uniform')"
            ]
          },
          "metadata": {
            "tags": []
          },
          "execution_count": 64
        }
      ]
    },
    {
      "cell_type": "code",
      "metadata": {
        "colab": {
          "base_uri": "https://localhost:8080/",
          "height": 296
        },
        "id": "EjtCm2EaqJ4i",
        "outputId": "b4ea2727-cf87-4d56-f3ce-0ce6124e3b78"
      },
      "source": [
        "print(\"Confusion Matrix: Train\")\n",
        "plt.show(plot_confusion_matrix(classifier, X_train_smote, y_train_smote,cmap = 'Blues', values_format = 'g'))"
      ],
      "execution_count": 65,
      "outputs": [
        {
          "output_type": "stream",
          "text": [
            "Confusion Matrix: Train\n"
          ],
          "name": "stdout"
        },
        {
          "output_type": "display_data",
          "data": {
            "image/png": "[encoded data removed]",
            "text/plain": [
              "<Figure size 432x288 with 2 Axes>"
            ]
          },
          "metadata": {
            "tags": [],
            "needs_background": "light"
          }
        }
      ]
    },
    {
      "cell_type": "code",
      "metadata": {
        "colab": {
          "base_uri": "https://localhost:8080/",
          "height": 296
        },
        "id": "Ex4QAavYqJ4k",
        "outputId": "0b5148b8-68b5-4df9-8fb8-5d65ca0d36f3"
      },
      "source": [
        "print(\"Confusion Matrix: Test\")\n",
        "plt.show(plot_confusion_matrix(classifier, X_test_smote, Y_test,cmap = 'Blues', values_format = 'g'))"
      ],
      "execution_count": 66,
      "outputs": [
        {
          "output_type": "stream",
          "text": [
            "Confusion Matrix: Test\n"
          ],
          "name": "stdout"
        },
        {
          "output_type": "display_data",
          "data": {
            "image/png": "[encoded data removed]",
            "text/plain": [
              "<Figure size 432x288 with 2 Axes>"
            ]
          },
          "metadata": {
            "tags": [],
            "needs_background": "light"
          }
        }
      ]
    },
    {
      "cell_type": "code",
      "metadata": {
        "colab": {
          "base_uri": "https://localhost:8080/"
        },
        "id": "ycIFZtNfyeak",
        "outputId": "3d16922c-ecc9-4f64-b839-3db72fa3af90"
      },
      "source": [
        " target_names = ['class 0', 'class 1']\n",
        " y_pred = classifier.predict(X_test_smote)\n",
        " print(classification_report(Y_test, y_pred, target_names=target_names))"
      ],
      "execution_count": 67,
      "outputs": [
        {
          "output_type": "stream",
          "text": [
            "              precision    recall  f1-score   support\n",
            "\n",
            "     class 0       0.98      0.95      0.97       353\n",
            "     class 1       0.15      0.33      0.21         9\n",
            "\n",
            "    accuracy                           0.94       362\n",
            "   macro avg       0.57      0.64      0.59       362\n",
            "weighted avg       0.96      0.94      0.95       362\n",
            "\n"
          ],
          "name": "stdout"
        }
      ]
    },
    {
      "cell_type": "code",
      "metadata": {
        "colab": {
          "base_uri": "https://localhost:8080/"
        },
        "id": "i8U1DPQQSC3w",
        "outputId": "f7b0ad9a-b3e4-497a-ac67-8dabb2f0c810"
      },
      "source": [
        " target_names = ['class 0', 'class 1']\n",
        " print(classification_report(y_train_smote, classifier.predict(X_train_smote), target_names=target_names))"
      ],
      "execution_count": 68,
      "outputs": [
        {
          "output_type": "stream",
          "text": [
            "              precision    recall  f1-score   support\n",
            "\n",
            "     class 0       0.64      0.96      0.76       562\n",
            "     class 1       0.92      0.45      0.60       562\n",
            "\n",
            "    accuracy                           0.70      1124\n",
            "   macro avg       0.78      0.70      0.68      1124\n",
            "weighted avg       0.78      0.70      0.68      1124\n",
            "\n"
          ],
          "name": "stdout"
        }
      ]
    },
    {
      "cell_type": "code",
      "metadata": {
        "colab": {
          "base_uri": "https://localhost:8080/",
          "height": 80
        },
        "id": "VhmpCeHn-GoM",
        "outputId": "064c53ce-a88b-40d6-b1b4-56e1611bd668"
      },
      "source": [
        "data_random"
      ],
      "execution_count": 22,
      "outputs": [
        {
          "output_type": "execute_result",
          "data": {
            "text/html": [
              "<div>\n",
              "<style scoped>\n",
              "    .dataframe tbody tr th:only-of-type {\n",
              "        vertical-align: middle;\n",
              "    }\n",
              "\n",
              "    .dataframe tbody tr th {\n",
              "        vertical-align: top;\n",
              "    }\n",
              "\n",
              "    .dataframe thead th {\n",
              "        text-align: right;\n",
              "    }\n",
              "</style>\n",
              "<table border=\"1\" class=\"dataframe\">\n",
              "  <thead>\n",
              "    <tr style=\"text-align: right;\">\n",
              "      <th></th>\n",
              "      <th>Married</th>\n",
              "      <th>Dependents</th>\n",
              "      <th>Education</th>\n",
              "      <th>Self_Employed</th>\n",
              "      <th>LoanAmount</th>\n",
              "    </tr>\n",
              "  </thead>\n",
              "  <tbody>\n",
              "    <tr>\n",
              "      <th>67</th>\n",
              "      <td>Yes</td>\n",
              "      <td>0</td>\n",
              "      <td>Graduate</td>\n",
              "      <td>No</td>\n",
              "      <td>0</td>\n",
              "    </tr>\n",
              "  </tbody>\n",
              "</table>\n",
              "</div>"
            ],
            "text/plain": [
              "   Married Dependents Education Self_Employed LoanAmount\n",
              "67     Yes          0  Graduate            No          0"
            ]
          },
          "metadata": {
            "tags": []
          },
          "execution_count": 22
        }
      ]
    },
    {
      "cell_type": "code",
      "metadata": {
        "colab": {
          "base_uri": "https://localhost:8080/"
        },
        "id": "2CMzQST0-GoN",
        "outputId": "0ae05376-ac73-4ae8-dd9a-938cf3391fe3"
      },
      "source": [
        "y_random_pred = classifier.predict(X_random)\n",
        "print(\"y predict: \" , y_random_pred)"
      ],
      "execution_count": 23,
      "outputs": [
        {
          "output_type": "stream",
          "text": [
            "y predict:  [0.]\n"
          ],
          "name": "stdout"
        }
      ]
    },
    {
      "cell_type": "markdown",
      "metadata": {
        "id": "dk-qb77roseU"
      },
      "source": [
        "#ADASYN"
      ]
    },
    {
      "cell_type": "code",
      "metadata": {
        "colab": {
          "base_uri": "https://localhost:8080/"
        },
        "id": "I27U1pR1nL0-",
        "outputId": "ca38a467-e7d9-42e1-b369-8cf786d40b20"
      },
      "source": [
        "#### ADASYN\n",
        "ada = ADASYN() \n",
        "X_train_ada , y_train_ada = ada.fit_resample( X_train ,  Y_train ) "
      ],
      "execution_count": 69,
      "outputs": [
        {
          "output_type": "stream",
          "text": [
            "/usr/local/lib/python3.7/dist-packages/sklearn/utils/deprecation.py:87: FutureWarning: Function safe_indexing is deprecated; safe_indexing is deprecated in version 0.22 and will be removed in version 0.24.\n",
            "  warnings.warn(msg, category=FutureWarning)\n"
          ],
          "name": "stderr"
        }
      ]
    },
    {
      "cell_type": "markdown",
      "metadata": {
        "id": "pEanAQLonsrv"
      },
      "source": [
        "Dicision Tree"
      ]
    },
    {
      "cell_type": "code",
      "metadata": {
        "id": "euswWvEvnNXU"
      },
      "source": [
        "#Chuan hoa du lieu\n",
        "SC = StandardScaler(with_mean=False)\n",
        "X_train_ada = SC.fit_transform(X_train_ada)\n",
        "X_test_ada =  SC.transform(X_test)"
      ],
      "execution_count": 70,
      "outputs": []
    },
    {
      "cell_type": "code",
      "metadata": {
        "colab": {
          "base_uri": "https://localhost:8080/"
        },
        "id": "uOBugTp9nVo6",
        "outputId": "98db2f3c-2e2e-4b62-8d0c-3e7b1085d20e"
      },
      "source": [
        "#huan luyen mo hinh\n",
        "classifier = DecisionTreeClassifier(criterion =\"entropy\",splitter= 'random')\n",
        "classifier.fit(X_train_ada, y_train_ada)"
      ],
      "execution_count": 71,
      "outputs": [
        {
          "output_type": "execute_result",
          "data": {
            "text/plain": [
              "DecisionTreeClassifier(ccp_alpha=0.0, class_weight=None, criterion='entropy',\n",
              "                       max_depth=None, max_features=None, max_leaf_nodes=None,\n",
              "                       min_impurity_decrease=0.0, min_impurity_split=None,\n",
              "                       min_samples_leaf=1, min_samples_split=2,\n",
              "                       min_weight_fraction_leaf=0.0, presort='deprecated',\n",
              "                       random_state=None, splitter='random')"
            ]
          },
          "metadata": {
            "tags": []
          },
          "execution_count": 71
        }
      ]
    },
    {
      "cell_type": "code",
      "metadata": {
        "colab": {
          "base_uri": "https://localhost:8080/"
        },
        "id": "oNDZ2wblnZX2",
        "outputId": "329c4b47-64b4-4a48-d365-f62a4bcef970"
      },
      "source": [
        " target_names = ['class 0', 'class 1']\n",
        " y_pred = classifier.predict(X_test_ada)\n",
        " print(classification_report(Y_test, y_pred, target_names=target_names))"
      ],
      "execution_count": 74,
      "outputs": [
        {
          "output_type": "stream",
          "text": [
            "              precision    recall  f1-score   support\n",
            "\n",
            "     class 0       0.98      0.84      0.91       353\n",
            "     class 1       0.07      0.44      0.12         9\n",
            "\n",
            "    accuracy                           0.83       362\n",
            "   macro avg       0.53      0.64      0.51       362\n",
            "weighted avg       0.96      0.83      0.89       362\n",
            "\n"
          ],
          "name": "stdout"
        }
      ]
    },
    {
      "cell_type": "code",
      "metadata": {
        "colab": {
          "base_uri": "https://localhost:8080/"
        },
        "id": "jhQFQilQnchi",
        "outputId": "2c6cf55c-ab53-46ae-868c-db38ebcc94e5"
      },
      "source": [
        " target_names = ['class 0', 'class 1']\n",
        " print(classification_report(y_train_ada, classifier.predict(X_train_ada), target_names=target_names))"
      ],
      "execution_count": 73,
      "outputs": [
        {
          "output_type": "stream",
          "text": [
            "              precision    recall  f1-score   support\n",
            "\n",
            "     class 0       0.75      0.86      0.80       562\n",
            "     class 1       0.83      0.70      0.76       550\n",
            "\n",
            "    accuracy                           0.78      1112\n",
            "   macro avg       0.79      0.78      0.78      1112\n",
            "weighted avg       0.79      0.78      0.78      1112\n",
            "\n"
          ],
          "name": "stdout"
        }
      ]
    },
    {
      "cell_type": "code",
      "metadata": {
        "colab": {
          "base_uri": "https://localhost:8080/",
          "height": 296
        },
        "id": "zTKvbWlsqV6W",
        "outputId": "a32cc60e-57b4-473e-d5a8-36dc1721ea8b"
      },
      "source": [
        "print(\"Confusion Matrix: Train\")\n",
        "plt.show(plot_confusion_matrix(classifier, X_train_ada, y_train_ada,cmap = 'Blues', values_format = 'g'))"
      ],
      "execution_count": 75,
      "outputs": [
        {
          "output_type": "stream",
          "text": [
            "Confusion Matrix: Train\n"
          ],
          "name": "stdout"
        },
        {
          "output_type": "display_data",
          "data": {
            "image/png": "[encoded data removed]",
            "text/plain": [
              "<Figure size 432x288 with 2 Axes>"
            ]
          },
          "metadata": {
            "tags": [],
            "needs_background": "light"
          }
        }
      ]
    },
    {
      "cell_type": "code",
      "metadata": {
        "colab": {
          "base_uri": "https://localhost:8080/",
          "height": 296
        },
        "id": "Re6q0lV3qV6X",
        "outputId": "d90a014b-5a53-4014-a90c-7750dd3c0536"
      },
      "source": [
        "print(\"Confusion Matrix: Test\")\n",
        "plt.show(plot_confusion_matrix(classifier, X_test_ada, Y_test,cmap = 'Blues', values_format = 'g'))"
      ],
      "execution_count": 76,
      "outputs": [
        {
          "output_type": "stream",
          "text": [
            "Confusion Matrix: Test\n"
          ],
          "name": "stdout"
        },
        {
          "output_type": "display_data",
          "data": {
            "image/png": "[encoded data removed]",
            "text/plain": [
              "<Figure size 432x288 with 2 Axes>"
            ]
          },
          "metadata": {
            "tags": [],
            "needs_background": "light"
          }
        }
      ]
    },
    {
      "cell_type": "markdown",
      "metadata": {
        "id": "3-vYVsMhnqTz"
      },
      "source": [
        "KNN"
      ]
    },
    {
      "cell_type": "code",
      "metadata": {
        "colab": {
          "base_uri": "https://localhost:8080/"
        },
        "id": "mE56yK6Snvv5",
        "outputId": "33804d1e-4108-4576-a75f-1d2f13058168"
      },
      "source": [
        "classifier = KNeighborsClassifier(n_neighbors= 1)\n",
        "classifier.fit(X_train_ada, y_train_ada)"
      ],
      "execution_count": 77,
      "outputs": [
        {
          "output_type": "execute_result",
          "data": {
            "text/plain": [
              "KNeighborsClassifier(algorithm='auto', leaf_size=30, metric='minkowski',\n",
              "                     metric_params=None, n_jobs=None, n_neighbors=1, p=2,\n",
              "                     weights='uniform')"
            ]
          },
          "metadata": {
            "tags": []
          },
          "execution_count": 77
        }
      ]
    },
    {
      "cell_type": "code",
      "metadata": {
        "colab": {
          "base_uri": "https://localhost:8080/"
        },
        "id": "c1KTlSm2nyhl",
        "outputId": "2b5c9d28-dc51-4e3b-c94c-f67123c84ede"
      },
      "source": [
        " target_names = ['class 0', 'class 1']\n",
        " y_pred = classifier.predict(X_test_ada)\n",
        " print(classification_report(Y_test, y_pred, target_names=target_names))"
      ],
      "execution_count": 78,
      "outputs": [
        {
          "output_type": "stream",
          "text": [
            "              precision    recall  f1-score   support\n",
            "\n",
            "     class 0       0.98      0.92      0.94       353\n",
            "     class 1       0.03      0.11      0.05         9\n",
            "\n",
            "    accuracy                           0.90       362\n",
            "   macro avg       0.50      0.51      0.50       362\n",
            "weighted avg       0.95      0.90      0.92       362\n",
            "\n"
          ],
          "name": "stdout"
        }
      ]
    },
    {
      "cell_type": "code",
      "metadata": {
        "colab": {
          "base_uri": "https://localhost:8080/"
        },
        "id": "Txd1Kw_zn0f4",
        "outputId": "3ffc7cf1-8aef-4ca2-9eb1-690bc7d8ea3d"
      },
      "source": [
        " target_names = ['class 0', 'class 1']\n",
        " print(classification_report(y_train_ada, classifier.predict(X_train_ada), target_names=target_names))"
      ],
      "execution_count": 79,
      "outputs": [
        {
          "output_type": "stream",
          "text": [
            "              precision    recall  f1-score   support\n",
            "\n",
            "     class 0       0.65      0.92      0.77       562\n",
            "     class 1       0.86      0.50      0.63       550\n",
            "\n",
            "    accuracy                           0.71      1112\n",
            "   macro avg       0.76      0.71      0.70      1112\n",
            "weighted avg       0.76      0.71      0.70      1112\n",
            "\n"
          ],
          "name": "stdout"
        }
      ]
    },
    {
      "cell_type": "code",
      "metadata": {
        "colab": {
          "base_uri": "https://localhost:8080/",
          "height": 296
        },
        "id": "ozgIWpS3qX8O",
        "outputId": "005912d5-04ad-42c6-f615-6f51164ad507"
      },
      "source": [
        "print(\"Confusion Matrix: Train\")\n",
        "plt.show(plot_confusion_matrix(classifier, X_train_ada, y_train_ada,cmap = 'Blues', values_format = 'g'))"
      ],
      "execution_count": 80,
      "outputs": [
        {
          "output_type": "stream",
          "text": [
            "Confusion Matrix: Train\n"
          ],
          "name": "stdout"
        },
        {
          "output_type": "display_data",
          "data": {
            "image/png": "[encoded data removed]",
            "text/plain": [
              "<Figure size 432x288 with 2 Axes>"
            ]
          },
          "metadata": {
            "tags": [],
            "needs_background": "light"
          }
        }
      ]
    },
    {
      "cell_type": "code",
      "metadata": {
        "colab": {
          "base_uri": "https://localhost:8080/",
          "height": 296
        },
        "id": "bFygLDlCqX8P",
        "outputId": "66ba4897-bf3a-4102-8d77-2f4f11a6c942"
      },
      "source": [
        "print(\"Confusion Matrix: Test\")\n",
        "plt.show(plot_confusion_matrix(classifier, X_test_ada, Y_test,cmap = 'Blues', values_format = 'g'))"
      ],
      "execution_count": 81,
      "outputs": [
        {
          "output_type": "stream",
          "text": [
            "Confusion Matrix: Test\n"
          ],
          "name": "stdout"
        },
        {
          "output_type": "display_data",
          "data": {
            "image/png": "[encoded data removed]",
            "text/plain": [
              "<Figure size 432x288 with 2 Axes>"
            ]
          },
          "metadata": {
            "tags": [],
            "needs_background": "light"
          }
        }
      ]
    },
    {
      "cell_type": "markdown",
      "metadata": {
        "id": "lT4Hry7Gnfzb"
      },
      "source": [
        "#RandomOversampling"
      ]
    },
    {
      "cell_type": "code",
      "metadata": {
        "colab": {
          "base_uri": "https://localhost:8080/"
        },
        "id": "ep_Grqu5nlCT",
        "outputId": "2cccee53-defd-42a3-d4bd-e08b202405de"
      },
      "source": [
        "#OVersampling\n",
        "ros = RandomOverSampler(random_state=0)\n",
        "X_train_os, y_train_os = ros.fit_resample(X_train, Y_train)"
      ],
      "execution_count": 82,
      "outputs": [
        {
          "output_type": "stream",
          "text": [
            "/usr/local/lib/python3.7/dist-packages/sklearn/utils/deprecation.py:87: FutureWarning: Function safe_indexing is deprecated; safe_indexing is deprecated in version 0.22 and will be removed in version 0.24.\n",
            "  warnings.warn(msg, category=FutureWarning)\n"
          ],
          "name": "stderr"
        }
      ]
    },
    {
      "cell_type": "markdown",
      "metadata": {
        "id": "GafUhsrno8n-"
      },
      "source": [
        "Chuẩn hoá dữ liệu"
      ]
    },
    {
      "cell_type": "code",
      "metadata": {
        "id": "PDdljJ5Bod0t"
      },
      "source": [
        "SC = StandardScaler(with_mean=False)\n",
        "X_train_os = SC.fit_transform(X_train_os)\n",
        "X_test_os =  SC.transform(X_test)"
      ],
      "execution_count": 83,
      "outputs": []
    },
    {
      "cell_type": "markdown",
      "metadata": {
        "id": "uOsVx99Xod0t"
      },
      "source": [
        "Disicion Tree"
      ]
    },
    {
      "cell_type": "code",
      "metadata": {
        "colab": {
          "base_uri": "https://localhost:8080/"
        },
        "id": "k16XbUkgod0t",
        "outputId": "6275f93b-51bd-48e0-a4a5-354559b624f9"
      },
      "source": [
        "classifier = DecisionTreeClassifier(criterion =\"entropy\")\n",
        "classifier.fit(X_train_os, y_train_os)"
      ],
      "execution_count": 84,
      "outputs": [
        {
          "output_type": "execute_result",
          "data": {
            "text/plain": [
              "DecisionTreeClassifier(ccp_alpha=0.0, class_weight=None, criterion='entropy',\n",
              "                       max_depth=None, max_features=None, max_leaf_nodes=None,\n",
              "                       min_impurity_decrease=0.0, min_impurity_split=None,\n",
              "                       min_samples_leaf=1, min_samples_split=2,\n",
              "                       min_weight_fraction_leaf=0.0, presort='deprecated',\n",
              "                       random_state=None, splitter='best')"
            ]
          },
          "metadata": {
            "tags": []
          },
          "execution_count": 84
        }
      ]
    },
    {
      "cell_type": "code",
      "metadata": {
        "colab": {
          "base_uri": "https://localhost:8080/"
        },
        "id": "0-Sz8a4mod0v",
        "outputId": "29a08d60-417c-4c04-86b1-deb4474410e3"
      },
      "source": [
        " target_names = ['class 0', 'class 1']\n",
        " y_pred = classifier.predict(X_test_os)\n",
        " print(classification_report(Y_test, y_pred, target_names=target_names))"
      ],
      "execution_count": 85,
      "outputs": [
        {
          "output_type": "stream",
          "text": [
            "              precision    recall  f1-score   support\n",
            "\n",
            "     class 0       0.98      0.83      0.90       353\n",
            "     class 1       0.06      0.44      0.11         9\n",
            "\n",
            "    accuracy                           0.82       362\n",
            "   macro avg       0.52      0.64      0.51       362\n",
            "weighted avg       0.96      0.82      0.88       362\n",
            "\n"
          ],
          "name": "stdout"
        }
      ]
    },
    {
      "cell_type": "code",
      "metadata": {
        "colab": {
          "base_uri": "https://localhost:8080/"
        },
        "id": "RzfVHMwyod0v",
        "outputId": "dfdefb2d-5ac6-4768-ecd8-cc1dd66f7a5d"
      },
      "source": [
        " target_names = ['class 0', 'class 1']\n",
        " print(classification_report(y_train_os, classifier.predict(X_train_os), target_names=target_names))"
      ],
      "execution_count": 86,
      "outputs": [
        {
          "output_type": "stream",
          "text": [
            "              precision    recall  f1-score   support\n",
            "\n",
            "     class 0       0.72      0.84      0.77       562\n",
            "     class 1       0.81      0.67      0.73       562\n",
            "\n",
            "    accuracy                           0.75      1124\n",
            "   macro avg       0.76      0.75      0.75      1124\n",
            "weighted avg       0.76      0.75      0.75      1124\n",
            "\n"
          ],
          "name": "stdout"
        }
      ]
    },
    {
      "cell_type": "code",
      "metadata": {
        "colab": {
          "base_uri": "https://localhost:8080/",
          "height": 296
        },
        "id": "STD2y7hjqZlK",
        "outputId": "a3132e53-5d5b-4656-8242-34f1f5bf85a1"
      },
      "source": [
        "print(\"Confusion Matrix: Train\")\n",
        "plt.show(plot_confusion_matrix(classifier, X_train_os, y_train_os,cmap = 'Blues', values_format = 'g'))"
      ],
      "execution_count": 87,
      "outputs": [
        {
          "output_type": "stream",
          "text": [
            "Confusion Matrix: Train\n"
          ],
          "name": "stdout"
        },
        {
          "output_type": "display_data",
          "data": {
            "image/png": "[encoded data removed]",
            "text/plain": [
              "<Figure size 432x288 with 2 Axes>"
            ]
          },
          "metadata": {
            "tags": [],
            "needs_background": "light"
          }
        }
      ]
    },
    {
      "cell_type": "code",
      "metadata": {
        "colab": {
          "base_uri": "https://localhost:8080/",
          "height": 296
        },
        "id": "efQITC6PqZlL",
        "outputId": "c06976a7-4071-4ecf-da35-504d190433b1"
      },
      "source": [
        "print(\"Confusion Matrix: Test\")\n",
        "plt.show(plot_confusion_matrix(classifier, X_test_os, Y_test,cmap = 'Blues', values_format = 'g'))"
      ],
      "execution_count": 88,
      "outputs": [
        {
          "output_type": "stream",
          "text": [
            "Confusion Matrix: Test\n"
          ],
          "name": "stdout"
        },
        {
          "output_type": "display_data",
          "data": {
            "image/png": "[encoded data removed]",
            "text/plain": [
              "<Figure size 432x288 with 2 Axes>"
            ]
          },
          "metadata": {
            "tags": [],
            "needs_background": "light"
          }
        }
      ]
    },
    {
      "cell_type": "markdown",
      "metadata": {
        "id": "odEQJejQomBF"
      },
      "source": [
        "KNN"
      ]
    },
    {
      "cell_type": "code",
      "metadata": {
        "colab": {
          "base_uri": "https://localhost:8080/"
        },
        "id": "zXJ8fYgkomBF",
        "outputId": "9538fd39-c58f-49c3-ba9c-470e9a441919"
      },
      "source": [
        "classifier = KNeighborsClassifier(n_neighbors= 2)\n",
        "classifier.fit(X_train_os, y_train_os)"
      ],
      "execution_count": 94,
      "outputs": [
        {
          "output_type": "execute_result",
          "data": {
            "text/plain": [
              "KNeighborsClassifier(algorithm='auto', leaf_size=30, metric='minkowski',\n",
              "                     metric_params=None, n_jobs=None, n_neighbors=2, p=2,\n",
              "                     weights='uniform')"
            ]
          },
          "metadata": {
            "tags": []
          },
          "execution_count": 94
        }
      ]
    },
    {
      "cell_type": "code",
      "metadata": {
        "colab": {
          "base_uri": "https://localhost:8080/"
        },
        "id": "q-_pTUiIomBF",
        "outputId": "3503a53e-70ed-43f3-9447-026a31fc0a47"
      },
      "source": [
        " target_names = ['class 0', 'class 1']\n",
        " y_pred = classifier.predict(X_test_os)\n",
        " print(classification_report(Y_test, y_pred, target_names=target_names))"
      ],
      "execution_count": 95,
      "outputs": [
        {
          "output_type": "stream",
          "text": [
            "              precision    recall  f1-score   support\n",
            "\n",
            "     class 0       0.98      0.95      0.97       353\n",
            "     class 1       0.15      0.33      0.21         9\n",
            "\n",
            "    accuracy                           0.94       362\n",
            "   macro avg       0.57      0.64      0.59       362\n",
            "weighted avg       0.96      0.94      0.95       362\n",
            "\n"
          ],
          "name": "stdout"
        }
      ]
    },
    {
      "cell_type": "code",
      "metadata": {
        "colab": {
          "base_uri": "https://localhost:8080/"
        },
        "id": "NyAzMWJKomBG",
        "outputId": "a588749b-7e6b-48ac-c82b-5e07b5d55cf3"
      },
      "source": [
        " target_names = ['class 0', 'class 1']\n",
        " print(classification_report(y_train_os, classifier.predict(X_train_os), target_names=target_names))"
      ],
      "execution_count": 96,
      "outputs": [
        {
          "output_type": "stream",
          "text": [
            "              precision    recall  f1-score   support\n",
            "\n",
            "     class 0       0.55      0.96      0.70       562\n",
            "     class 1       0.84      0.20      0.33       562\n",
            "\n",
            "    accuracy                           0.58      1124\n",
            "   macro avg       0.69      0.58      0.51      1124\n",
            "weighted avg       0.69      0.58      0.51      1124\n",
            "\n"
          ],
          "name": "stdout"
        }
      ]
    },
    {
      "cell_type": "code",
      "metadata": {
        "colab": {
          "base_uri": "https://localhost:8080/",
          "height": 296
        },
        "id": "amQA0ztsqaV4",
        "outputId": "9986e5cb-c9d7-4a87-965e-3113f0112886"
      },
      "source": [
        "print(\"Confusion Matrix: Train\")\n",
        "plt.show(plot_confusion_matrix(classifier, X_train_os, y_train_os,cmap = 'Blues', values_format = 'g'))"
      ],
      "execution_count": 97,
      "outputs": [
        {
          "output_type": "stream",
          "text": [
            "Confusion Matrix: Train\n"
          ],
          "name": "stdout"
        },
        {
          "output_type": "display_data",
          "data": {
            "image/png": "[encoded data removed]",
            "text/plain": [
              "<Figure size 432x288 with 2 Axes>"
            ]
          },
          "metadata": {
            "tags": [],
            "needs_background": "light"
          }
        }
      ]
    },
    {
      "cell_type": "code",
      "metadata": {
        "colab": {
          "base_uri": "https://localhost:8080/",
          "height": 296
        },
        "id": "oaAMrh8CqaV5",
        "outputId": "1d1f162f-4cea-4e54-8362-e2cccda0d5e2"
      },
      "source": [
        "print(\"Confusion Matrix: Test\")\n",
        "plt.show(plot_confusion_matrix(classifier, X_test_os, Y_test,cmap = 'Blues', values_format = 'g'))"
      ],
      "execution_count": 98,
      "outputs": [
        {
          "output_type": "stream",
          "text": [
            "Confusion Matrix: Test\n"
          ],
          "name": "stdout"
        },
        {
          "output_type": "display_data",
          "data": {
            "image/png": "[encoded data removed]",
            "text/plain": [
              "<Figure size 432x288 with 2 Axes>"
            ]
          },
          "metadata": {
            "tags": [],
            "needs_background": "light"
          }
        }
      ]
    },
    {
      "cell_type": "code",
      "metadata": {
        "id": "DalvOMP1NtNz"
      },
      "source": [
        ""
      ],
      "execution_count": null,
      "outputs": []
    }
  ]
}